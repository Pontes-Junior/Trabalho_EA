{
 "cells": [
  {
   "cell_type": "markdown",
   "metadata": {},
   "source": [
    "# Trabalho de Estatística Aplicada"
   ]
  },
  {
   "cell_type": "markdown",
   "metadata": {},
   "source": [
    "## OBJETIVOS\n",
    "- Desenvolver habilidades práticas em análise de dados.\n",
    "- Reforçar conceitos de estatística descritiva.\n",
    "- Aplicar técnicas estatísticas em dados empresariais para extração de insights e suporte à tomada de\n",
    "decisão.\n",
    "\n",
    "## O TEMA\n",
    "Análise de Eficiência Operacional e Gestão de Ativos:\n",
    "- Objetivo: Investigar a relação entre a eficiência operacional das empresas e a gestão de seus ativos\n",
    "e dívidas. Este tema focará em entender como a gestão de custos, ativos e dívidas influencia a\n",
    "lucratividade e a saúde financeira da empresa. Identificar padrões ou tendências entre diferentes\n",
    "segmentos de mercado e localizações geográficas.\n",
    "- Variáveis-Chave: Cost (Custo), Profit (Lucro Líquido), Debt (Dívida), Assets (Ativos), e Revenue\n",
    "(Receita).\n",
    "- Perguntas:\n",
    "- Como a relação entre ativos e dívidas afeta a lucratividade das empresas?\n",
    "- Existe uma correlação entre a eficiência na gestão de custos e o desempenho financeiro\n",
    "global?\n",
    "- Como a gestão de ativos varia entre diferentes segmentos de mercado e localizações\n",
    "geográficas?"
   ]
  },
  {
   "cell_type": "markdown",
   "metadata": {},
   "source": [
    "## DESCRIÇÃO DAS VARIÁVEIS\n",
    "- ID: Identificador único para cada observação.\n",
    "- Revenue: Receita da empresa (em milhares de dólares).\n",
    "- Cost: Custo dos bens vendidos (em milhares de dólares).\n",
    "- Profit: Lucro líquido (em milhares de dólares).\n",
    "- Employees: Número de empregados.\n",
    "- Market: Segmento de mercado da empresa (ex: Tecnologia, Saúde, Varejo, etc).\n",
    "- Location: Localização da empresa (ex: América do Norte, América do Sul, Europa, Ásia, África,\n",
    "Oceania).\n",
    "- Year: Ano da observação.\n",
    "- Debt: Dívida total da empresa (em milhares de dólares).\n",
    "- Assets: Ativos totais da empresa (em milhares de dólares)."
   ]
  },
  {
   "cell_type": "code",
   "execution_count": 2,
   "metadata": {},
   "outputs": [],
   "source": [
    "#Importando bibliotecas.\n",
    "import pandas as pd \n",
    "import numpy as np\n",
    "import matplotlib as plt\n",
    "import seaborn as sns"
   ]
  },
  {
   "cell_type": "code",
   "execution_count": 3,
   "metadata": {},
   "outputs": [
    {
     "data": {
      "text/html": [
       "<div>\n",
       "<style scoped>\n",
       "    .dataframe tbody tr th:only-of-type {\n",
       "        vertical-align: middle;\n",
       "    }\n",
       "\n",
       "    .dataframe tbody tr th {\n",
       "        vertical-align: top;\n",
       "    }\n",
       "\n",
       "    .dataframe thead th {\n",
       "        text-align: right;\n",
       "    }\n",
       "</style>\n",
       "<table border=\"1\" class=\"dataframe\">\n",
       "  <thead>\n",
       "    <tr style=\"text-align: right;\">\n",
       "      <th></th>\n",
       "      <th>Id</th>\n",
       "      <th>Revenue</th>\n",
       "      <th>Cost</th>\n",
       "      <th>Profit</th>\n",
       "      <th>Employees</th>\n",
       "      <th>Market</th>\n",
       "      <th>Location</th>\n",
       "      <th>Debt</th>\n",
       "      <th>Assets</th>\n",
       "    </tr>\n",
       "  </thead>\n",
       "  <tbody>\n",
       "    <tr>\n",
       "      <th>0</th>\n",
       "      <td>1</td>\n",
       "      <td>61581.676536</td>\n",
       "      <td>36466.973751</td>\n",
       "      <td>25114.702784</td>\n",
       "      <td>177</td>\n",
       "      <td>Varejo</td>\n",
       "      <td>América do Norte</td>\n",
       "      <td>20440.331840</td>\n",
       "      <td>50434.480214</td>\n",
       "    </tr>\n",
       "    <tr>\n",
       "      <th>1</th>\n",
       "      <td>2</td>\n",
       "      <td>71548.970394</td>\n",
       "      <td>44790.258223</td>\n",
       "      <td>-26758.712171</td>\n",
       "      <td>237</td>\n",
       "      <td>Indústria</td>\n",
       "      <td>África</td>\n",
       "      <td>35068.757162</td>\n",
       "      <td>64177.161780</td>\n",
       "    </tr>\n",
       "    <tr>\n",
       "      <th>2</th>\n",
       "      <td>3</td>\n",
       "      <td>47559.860308</td>\n",
       "      <td>34399.473133</td>\n",
       "      <td>-13160.387175</td>\n",
       "      <td>67</td>\n",
       "      <td>Finanças</td>\n",
       "      <td>Ásia</td>\n",
       "      <td>37408.966336</td>\n",
       "      <td>78043.595162</td>\n",
       "    </tr>\n",
       "    <tr>\n",
       "      <th>3</th>\n",
       "      <td>4</td>\n",
       "      <td>67172.296697</td>\n",
       "      <td>24071.852764</td>\n",
       "      <td>43100.443933</td>\n",
       "      <td>464</td>\n",
       "      <td>Tecnologia</td>\n",
       "      <td>Europa</td>\n",
       "      <td>39194.311911</td>\n",
       "      <td>67012.259758</td>\n",
       "    </tr>\n",
       "    <tr>\n",
       "      <th>4</th>\n",
       "      <td>5</td>\n",
       "      <td>46629.541682</td>\n",
       "      <td>33555.078760</td>\n",
       "      <td>13074.462922</td>\n",
       "      <td>142</td>\n",
       "      <td>Finanças</td>\n",
       "      <td>África</td>\n",
       "      <td>27787.243831</td>\n",
       "      <td>62414.601821</td>\n",
       "    </tr>\n",
       "  </tbody>\n",
       "</table>\n",
       "</div>"
      ],
      "text/plain": [
       "   Id       Revenue          Cost        Profit  Employees      Market  \\\n",
       "0   1  61581.676536  36466.973751  25114.702784        177      Varejo   \n",
       "1   2  71548.970394  44790.258223 -26758.712171        237   Indústria   \n",
       "2   3  47559.860308  34399.473133 -13160.387175         67    Finanças   \n",
       "3   4  67172.296697  24071.852764  43100.443933        464  Tecnologia   \n",
       "4   5  46629.541682  33555.078760  13074.462922        142    Finanças   \n",
       "\n",
       "           Location          Debt        Assets  \n",
       "0  América do Norte  20440.331840  50434.480214  \n",
       "1            África  35068.757162  64177.161780  \n",
       "2              Ásia  37408.966336  78043.595162  \n",
       "3            Europa  39194.311911  67012.259758  \n",
       "4            África  27787.243831  62414.601821  "
      ]
     },
     "execution_count": 3,
     "metadata": {},
     "output_type": "execute_result"
    }
   ],
   "source": [
    "#Carregando dados.\n",
    "data = pd.read_excel(\"dados_estatística.xlsx\")\n",
    "\n",
    "data.head()"
   ]
  },
  {
   "cell_type": "code",
   "execution_count": 4,
   "metadata": {},
   "outputs": [
    {
     "name": "stdout",
     "output_type": "stream",
     "text": [
      "<class 'pandas.core.frame.DataFrame'>\n",
      "RangeIndex: 650 entries, 0 to 649\n",
      "Data columns (total 9 columns):\n",
      " #   Column     Non-Null Count  Dtype  \n",
      "---  ------     --------------  -----  \n",
      " 0   Id         650 non-null    int64  \n",
      " 1   Revenue    650 non-null    float64\n",
      " 2   Cost       650 non-null    float64\n",
      " 3   Profit     650 non-null    float64\n",
      " 4   Employees  650 non-null    int64  \n",
      " 5   Market     650 non-null    object \n",
      " 6   Location   650 non-null    object \n",
      " 7   Debt       650 non-null    float64\n",
      " 8   Assets     650 non-null    float64\n",
      "dtypes: float64(5), int64(2), object(2)\n",
      "memory usage: 45.8+ KB\n"
     ]
    }
   ],
   "source": [
    "data.info()"
   ]
  }
 ],
 "metadata": {
  "kernelspec": {
   "display_name": "base",
   "language": "python",
   "name": "python3"
  },
  "language_info": {
   "codemirror_mode": {
    "name": "ipython",
    "version": 3
   },
   "file_extension": ".py",
   "mimetype": "text/x-python",
   "name": "python",
   "nbconvert_exporter": "python",
   "pygments_lexer": "ipython3",
   "version": "3.9.18"
  }
 },
 "nbformat": 4,
 "nbformat_minor": 2
}
